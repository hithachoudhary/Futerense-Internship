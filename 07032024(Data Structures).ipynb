{
 "cells": [
  {
   "cell_type": "code",
   "execution_count": 8,
   "id": "eddfbb55",
   "metadata": {},
   "outputs": [
    {
     "name": "stdout",
     "output_type": "stream",
     "text": [
      "(3, 5, 6, 7, 8, 1, 2, 12, 10)\n"
     ]
    }
   ],
   "source": [
    "#Python program toflatten tuple of lists to tuple\n",
    "\n",
    "def con(a):\n",
    "    t=()\n",
    "    for i in a:\n",
    "        t+=tuple(i)\n",
    "    return t\n",
    "    \n",
    "a=([3,5],[6,7,8],[1,2,12,10])\n",
    "t=con(a)\n",
    "print(t)"
   ]
  },
  {
   "cell_type": "code",
   "execution_count": 9,
   "id": "474b4bbd",
   "metadata": {},
   "outputs": [
    {
     "name": "stdout",
     "output_type": "stream",
     "text": [
      "({1, 2, 5, 6, 7, 10}, ('abs', 16, 10, 19))\n"
     ]
    }
   ],
   "source": [
    "#Python program to convert set into tuple and tuple into set\n",
    "\n",
    "def con1(x,y):\n",
    "    s=tuple(x)\n",
    "    t=set(y)\n",
    "    return x,y\n",
    "\n",
    "x={1,2,5,6,7,10}\n",
    "y=(\"abs\",16,10,19)\n",
    "res=con1(x,y)\n",
    "print(res)"
   ]
  },
  {
   "cell_type": "code",
   "execution_count": 10,
   "id": "1a16a9b6",
   "metadata": {},
   "outputs": [
    {
     "name": "stdout",
     "output_type": "stream",
     "text": [
      "The converted tuple list is:  [('name', 'Kia', 'Lia'), ('age', 19, 20), ('city', 'Rome', 'Miami'), ('street no', 13, 54)]\n"
     ]
    }
   ],
   "source": [
    "#Convert list of dictionary to tuple list in python\n",
    "\n",
    "dic=[{\"name\":[\"Kia\",\"Lia\"],\"age\":[19,20]},{\"city\":[\"Rome\",\"Miami\"],\"street no\":[13,54]}]\n",
    "dic1={}\n",
    "t=[]\n",
    "for i in dic:\n",
    "    for key in i.keys():\n",
    "        if key in dic1:\n",
    "            dic1[key]+=i[key]\n",
    "        else:\n",
    "            dic1[key]=i[key]\n",
    "for key in dic1.keys():\n",
    "    t.append(tuple([key]+dic1[key]))\n",
    "print(\"The converted tuple list is: \",t)"
   ]
  },
  {
   "cell_type": "code",
   "execution_count": 11,
   "id": "d4dadfb4",
   "metadata": {},
   "outputs": [
    {
     "name": "stdout",
     "output_type": "stream",
     "text": [
      "enter the nth element: 0\n",
      "Tuple list after sorting by Nth element is :  [(3, 17, 30), (12, 5, 34), (20, 34, 12), (23, 12, 9)]\n"
     ]
    }
   ],
   "source": [
    "#Python Sort tuple list by Nth element of tuple\n",
    "\n",
    "l=[(12,5,34),(23,12,9),(3,17,30),(20,34,12)]\n",
    "n=int(input(\"enter the nth element: \"))\n",
    "#using lambda function\n",
    "l.sort(key = lambda x: x[n]) \n",
    "print(\"Tuple list after sorting by Nth element is : \",l)"
   ]
  },
  {
   "cell_type": "code",
   "execution_count": 12,
   "id": "dad38f7d",
   "metadata": {},
   "outputs": [
    {
     "name": "stdout",
     "output_type": "stream",
     "text": [
      "The tuple indices are: [0, 1]\n"
     ]
    }
   ],
   "source": [
    "#Python program to find tuple indices from other tuple list\n",
    "\n",
    "l=[(28,14,34),(23,89,10),(35,29,15)]\n",
    "l1=[(34,76,12),(28,14,34),(23,89,10)]\n",
    "list=[]\n",
    "for _ in l1:\n",
    "    if _ in l:\n",
    "        list.append((l.index(_)))\n",
    "print(\"The tuple indices are:\",str(list))"
   ]
  },
  {
   "cell_type": "code",
   "execution_count": 13,
   "id": "0cfa1d11",
   "metadata": {},
   "outputs": [
    {
     "name": "stdout",
     "output_type": "stream",
     "text": [
      "[{'Company': ['Samsung', 'Apple']}, {'Stock value': [73, 169]}]\n"
     ]
    }
   ],
   "source": [
    "#Convert dictionary value list to dictionary list python\n",
    "\n",
    "def convert(dic):\n",
    "    l = []\n",
    "    for key, value in dic.items():\n",
    "        l.append({key: value})\n",
    "    return l\n",
    "dic = {\"Company\": [\"Samsung\",\"Apple\"],\"Stock value\": [73,169]}\n",
    "l = convert(dic)\n",
    "print(l) "
   ]
  },
  {
   "cell_type": "code",
   "execution_count": null,
   "id": "43be60bd",
   "metadata": {},
   "outputs": [],
   "source": []
  }
 ],
 "metadata": {
  "kernelspec": {
   "display_name": "Python 3 (ipykernel)",
   "language": "python",
   "name": "python3"
  },
  "language_info": {
   "codemirror_mode": {
    "name": "ipython",
    "version": 3
   },
   "file_extension": ".py",
   "mimetype": "text/x-python",
   "name": "python",
   "nbconvert_exporter": "python",
   "pygments_lexer": "ipython3",
   "version": "3.9.12"
  }
 },
 "nbformat": 4,
 "nbformat_minor": 5
}

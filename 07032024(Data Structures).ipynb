{
 "cells": [
  {
   "cell_type": "code",
   "execution_count": 14,
   "id": "eddfbb55",
   "metadata": {},
   "outputs": [
    {
     "name": "stdout",
     "output_type": "stream",
     "text": [
      "The flattened tuple is: (3, 5, 6, 7, 8, 1, 2, 12, 10)\n"
     ]
    }
   ],
   "source": [
    "#Python program to flatten tuple of lists to tuple\n",
    "\n",
    "def con(a):\n",
    "    t=()\n",
    "    for i in a:\n",
    "        t+=tuple(i)\n",
    "    return t\n",
    "    \n",
    "a=([3,5],[6,7,8],[1,2,12,10])\n",
    "t=con(a)\n",
    "print(\"The flattened tuple is:\",t)"
   ]
  },
  {
   "cell_type": "code",
   "execution_count": 15,
   "id": "5a3e7ac5",
   "metadata": {},
   "outputs": [
    {
     "name": "stdout",
     "output_type": "stream",
     "text": [
      "The flattened tuple is: (3, 5, 6, 7, 8, 1, 2, 12, 10)\n"
     ]
    }
   ],
   "source": [
    "#Python program to flatten tuple of lists to tuple using sum() function\n",
    "def flatten(a):\n",
    "    t=tuple(sum(a,[]))\n",
    "    return t\n",
    "\n",
    "a=([3,5],[6,7,8],[1,2,12,10])\n",
    "t=flatten(a)\n",
    "print(\"The flattened tuple is:\",t)"
   ]
  },
  {
   "cell_type": "code",
   "execution_count": 16,
   "id": "474b4bbd",
   "metadata": {},
   "outputs": [
    {
     "name": "stdout",
     "output_type": "stream",
     "text": [
      "({1, 2, 5, 6, 7, 10}, ('abs', 16, 10, 19))\n"
     ]
    }
   ],
   "source": [
    "#Python program to convert set into tuple and tuple into set\n",
    "\n",
    "def con1(x,y):\n",
    "    s=tuple(x)\n",
    "    t=set(y)\n",
    "    return x,y\n",
    "\n",
    "x={1,2,5,6,7,10}\n",
    "y=(\"abs\",16,10,19)\n",
    "res=con1(x,y)\n",
    "print(res)"
   ]
  },
  {
   "cell_type": "code",
   "execution_count": 17,
   "id": "1a16a9b6",
   "metadata": {},
   "outputs": [
    {
     "name": "stdout",
     "output_type": "stream",
     "text": [
      "The converted tuple list is:  [('name', 'Kia', 'Lia'), ('age', 19, 20), ('city', 'Rome', 'Miami'), ('street no', 13, 54)]\n"
     ]
    }
   ],
   "source": [
    "#Convert list of dictionary to tuple list in python\n",
    "\n",
    "dic=[{\"name\":[\"Kia\",\"Lia\"],\"age\":[19,20]},{\"city\":[\"Rome\",\"Miami\"],\"street no\":[13,54]}]\n",
    "dic1={}\n",
    "t=[]\n",
    "for i in dic:\n",
    "    for key in i.keys():\n",
    "        if key in dic1:\n",
    "            dic1[key]+=i[key]\n",
    "        else:\n",
    "            dic1[key]=i[key]\n",
    "for key in dic1.keys():\n",
    "    t.append(tuple([key]+dic1[key]))\n",
    "print(\"The converted tuple list is: \",t)"
   ]
  },
  {
   "cell_type": "code",
   "execution_count": 18,
   "id": "d4dadfb4",
   "metadata": {},
   "outputs": [
    {
     "name": "stdout",
     "output_type": "stream",
     "text": [
      "enter the nth element: 1\n",
      "Tuple list after sorting by Nth element is :  [(12, 5, 34), (23, 12, 9), (3, 17, 30), (20, 34, 12)]\n"
     ]
    }
   ],
   "source": [
    "#Python Sort tuple list by Nth element of tuple\n",
    "\n",
    "l=[(12,5,34),(23,12,9),(3,17,30),(20,34,12)]\n",
    "n=int(input(\"enter the nth element: \"))\n",
    "#using lambda function\n",
    "l.sort(key = lambda x: x[n]) \n",
    "print(\"Tuple list after sorting by Nth element is : \",l)"
   ]
  },
  {
   "cell_type": "code",
   "execution_count": 19,
   "id": "dad38f7d",
   "metadata": {},
   "outputs": [
    {
     "name": "stdout",
     "output_type": "stream",
     "text": [
      "The tuple indices are: [0, 1]\n"
     ]
    }
   ],
   "source": [
    "#Python program to find tuple indices from other tuple list\n",
    "\n",
    "l=[(28,14,34),(23,89,10),(35,29,15)]\n",
    "l1=[(34,76,12),(28,14,34),(23,89,10)]\n",
    "list=[]\n",
    "for _ in l1:\n",
    "    if _ in l:\n",
    "        list.append((l.index(_)))\n",
    "print(\"The tuple indices are:\",str(list))"
   ]
  },
  {
   "cell_type": "code",
   "execution_count": 20,
   "id": "0cfa1d11",
   "metadata": {},
   "outputs": [
    {
     "name": "stdout",
     "output_type": "stream",
     "text": [
      "Dictionary list -> [{'Name': 'Mia', 'Age': 19, 'SGPA': 9.6}, {'Name': 'Kun', 'Age': 19, 'SGPA': 6.5}, {'Name': 'Kia', 'Age': 22, 'SGPA': 7.6}]\n"
     ]
    }
   ],
   "source": [
    "#Convert dictionary value list to dictionary list python\n",
    "\n",
    "lt = [{'Name' : [\"Mia\",\"Kun\",\"Kia\"]}, {'Age' : [19,19,22]},{'SGPA':[9.6,6.5,7.6]}]\n",
    "result =[{} for i in range(len(lt))]\n",
    "a = 0\n",
    "for ele in lt:\n",
    "    for key, val in ele.items(): \n",
    "        for j in val:\n",
    "            result[a][key] = j\n",
    "            a += 1\n",
    "        a = 0\n",
    "\n",
    "# printing result \n",
    "print(\"Dictionary list ->\",result)"
   ]
  },
  {
   "cell_type": "code",
   "execution_count": null,
   "id": "43be60bd",
   "metadata": {},
   "outputs": [],
   "source": []
  }
 ],
 "metadata": {
  "kernelspec": {
   "display_name": "Python 3 (ipykernel)",
   "language": "python",
   "name": "python3"
  },
  "language_info": {
   "codemirror_mode": {
    "name": "ipython",
    "version": 3
   },
   "file_extension": ".py",
   "mimetype": "text/x-python",
   "name": "python",
   "nbconvert_exporter": "python",
   "pygments_lexer": "ipython3",
   "version": "3.9.12"
  }
 },
 "nbformat": 4,
 "nbformat_minor": 5
}

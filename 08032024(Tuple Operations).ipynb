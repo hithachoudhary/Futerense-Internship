{
 "cells": [
  {
   "cell_type": "markdown",
   "id": "3c04c58b",
   "metadata": {},
   "source": [
    "Q1}Write a Python program to calculate the product, multiplying all the numbers in a given tuple. \n",
    "Original Tuple: (4, 3, 2, 2, -1, 18)  \n",
    "Product - multiplying all the numbers of the said tuple: -864  \n",
    "Original Tuple: (2, 4, 8, 8, 3, 2, 9)  \n",
    "Product - multiplying all the numbers of the said tuple: 27648  "
   ]
  },
  {
   "cell_type": "code",
   "execution_count": 9,
   "id": "019db2ba",
   "metadata": {},
   "outputs": [
    {
     "name": "stdout",
     "output_type": "stream",
     "text": [
      "Original Tuple:  (4, 3, 2, 2, -1, 18)\n",
      "Product - multiplying all the numbers of the said tuple: -864\n",
      "\n",
      "Original Tuple:  (2, 4, 8, 8, 3, 2, 9)\n",
      "Product - multiplying all the numbers of the said tuple: 27648\n"
     ]
    }
   ],
   "source": [
    "def prod(tup):\n",
    "    product = 1 \n",
    "    for x in tup:\n",
    "        product *= x\n",
    "    return product\n",
    "\n",
    "tup = (4, 3, 2, 2, -1, 18)\n",
    "print (\"Original Tuple: \",tup)\n",
    "print(\"Product - multiplying all the numbers of the said tuple:\", prod(tup))\n",
    "tup1 = (2, 4, 8, 8, 3, 2, 9)\n",
    "print (\"\\nOriginal Tuple: \", tup1)\n",
    "print(\"Product - multiplying all the numbers of the said tuple:\", prod(tup1))"
   ]
  },
  {
   "cell_type": "markdown",
   "id": "f436411f",
   "metadata": {},
   "source": [
    "Q2}Write a Python program to calculate the average value of the numbers in a given tuple of tuples.  \n",
    "Original Tuple:  \n",
    "(10, 10, 10, 12), (30, 45, 56,\n",
    "45), (81, 80, 39, 32), (1, 2, 3, 4))  \n",
    "Average value of the numbers of the said tuple of tuples:  \n",
    "[30.5, 34.25, 27.0, 23.25]  \n",
    "Original Tuple:  \n",
    "((1, 1, -5), (30, -15, 56), (81,\n",
    "-60, -39), (-10, 2, 3))  \n",
    "Average value of the numbers of the said tuple of tuples:  \n",
    "[25.5, -18.0, 3.75]  "
   ]
  },
  {
   "cell_type": "code",
   "execution_count": 27,
   "id": "7e3b4446",
   "metadata": {},
   "outputs": [
    {
     "name": "stdout",
     "output_type": "stream",
     "text": [
      "Original Tuple:  ((10, 10, 10, 12), (30, 45, 56, 45), (81, 80, 39, 32), (1, 2, 3, 4))\n",
      "\n",
      "The average value of the numbers of the said tuple of tuples:\n",
      " [30.5, 34.25, 27.0, 23.25]\n",
      "\n",
      "Original Tuple:  ((1, 1, -5), (30, -15, 56), (81, -60, -39), (-10, 2, 3))\n",
      "\n",
      "Average value of the numbers of the said tuple of tuples:\n",
      " [25.5, -18.0, 3.75]\n"
     ]
    }
   ],
   "source": [
    "def avg(val):\n",
    "    average = [sum(i)/len(i) for i in zip(*val)]\n",
    "    return average\n",
    "\n",
    "val = ((10, 10, 10, 12), (30, 45, 56, 45), (81, 80, 39, 32), (1, 2, 3, 4))\n",
    "print(\"Original Tuple: \",val)\n",
    "print(\"\\nThe average value of the numbers of the said tuple of tuples:\\n\", avg(val))\n",
    "val1 =  ((1, 1, -5), (30, -15, 56), (81, -60, -39), (-10, 2, 3))\n",
    "print (\"\\nOriginal Tuple: \", val1)\n",
    "print(\"\\nAverage value of the numbers of the said tuple of tuples:\\n\", avg(val1)) "
   ]
  },
  {
   "cell_type": "code",
   "execution_count": null,
   "id": "b18230b2",
   "metadata": {},
   "outputs": [],
   "source": []
  }
 ],
 "metadata": {
  "kernelspec": {
   "display_name": "Python 3 (ipykernel)",
   "language": "python",
   "name": "python3"
  },
  "language_info": {
   "codemirror_mode": {
    "name": "ipython",
    "version": 3
   },
   "file_extension": ".py",
   "mimetype": "text/x-python",
   "name": "python",
   "nbconvert_exporter": "python",
   "pygments_lexer": "ipython3",
   "version": "3.9.12"
  }
 },
 "nbformat": 4,
 "nbformat_minor": 5
}
